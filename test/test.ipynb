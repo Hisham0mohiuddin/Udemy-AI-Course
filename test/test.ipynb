{
 "cells": [
  {
   "cell_type": "markdown",
   "id": "4686b790",
   "metadata": {},
   "source": [
    "print(1+1)"
   ]
  },
  {
   "cell_type": "markdown",
   "id": "20d1f1ad",
   "metadata": {},
   "source": []
  },
  {
   "cell_type": "code",
   "execution_count": 1,
   "id": "d504f207",
   "metadata": {},
   "outputs": [
    {
     "name": "stdout",
     "output_type": "stream",
     "text": [
      "2\n"
     ]
    }
   ],
   "source": [
    "print(1+1)"
   ]
  },
  {
   "cell_type": "markdown",
   "id": "beab8902",
   "metadata": {},
   "source": [
    "python example "
   ]
  },
  {
   "cell_type": "markdown",
   "id": "5fffc8f3",
   "metadata": {},
   "source": [
    "### this is bold\n"
   ]
  },
  {
   "cell_type": "markdown",
   "id": "b37a732d",
   "metadata": {},
   "source": []
  }
 ],
 "metadata": {
  "kernelspec": {
   "display_name": "venv",
   "language": "python",
   "name": "python3"
  },
  "language_info": {
   "codemirror_mode": {
    "name": "ipython",
    "version": 3
   },
   "file_extension": ".py",
   "mimetype": "text/x-python",
   "name": "python",
   "nbconvert_exporter": "python",
   "pygments_lexer": "ipython3",
   "version": "3.10.0"
  }
 },
 "nbformat": 4,
 "nbformat_minor": 5
}
